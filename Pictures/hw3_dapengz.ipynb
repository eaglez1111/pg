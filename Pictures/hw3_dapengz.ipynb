{
  "nbformat": 4,
  "nbformat_minor": 0,
  "metadata": {
    "colab": {
      "name": "Copy of 10701_hw3_student",
      "provenance": [],
      "collapsed_sections": [],
      "toc_visible": true
    },
    "kernelspec": {
      "name": "python3",
      "display_name": "Python 3"
    }
  },
  "cells": [
    {
      "cell_type": "markdown",
      "metadata": {
        "id": "rXADdUMUccUM",
        "colab_type": "text"
      },
      "source": [
        "# 10701 HW3: Implementing Neural Network\n",
        "In this part, you will implement the basic layers and the backpropagation algorithm for a neural network. We are not considering convolution layers or any fancy techniques like batch normalization. In the end, you will train a multi-layered, fully connected neural network to recognize digits from handwritten images, specifically speaking, the [MNIST dataset](http://yann.lecun.com/exdb/mnist/), with validation error rate less than 4%.\n",
        "\n",
        "![MNIST_example](https://drive.google.com/uc?export=view&id=1q4Kjt_OhiC1TMLq_pDtmwukxvKJGKBs5)\n",
        "\n",
        "This homework is beneficial in that you will have a solid understanding of the mathematical derivation and practical programming of simple neural networks, which means that you are **NOT** allowed to use any 3rd party external libraries (PyTorch, TensorFlow etc.) other than Numpy for linear algebra and Matplotlib for plotting.\n",
        "\n",
        "You are recommended to go over related lectures before starting. If you are ready, let's get started. \n",
        "\n",
        "---\n",
        "\n",
        "Note: There is always a **TODO** sign where you should add your code. Please do not modify anywhere else. \\\\\n",
        "Note: To help you debug, we have provided you with the sample output of the first 10 epochs of training and the resulting plot after 100 epochs of training. When grading, we will run your code to check if it produces the correct output.\n",
        "\n"
      ]
    },
    {
      "cell_type": "markdown",
      "metadata": {
        "id": "kvkOq7NPnlwX",
        "colab_type": "text"
      },
      "source": [
        "## Basic layers\n",
        "\n",
        "As you learned from the lecture, neural networks are composed of basic layers. Let's first take a look at the base class of layers. \n",
        "\n",
        "Each layer basically contains a *`forward`* and a *`backward`* member function. The *`forward`* function takes an input, makes some modifications and returns an output. It may also keep some records in its internal states necessary for the later backpropagation. The *`backward`* function takes a *delta* from the next layer and a *learning rate*, which are used to calculate the delta as to the last layer and update its own parameters. All the basic layers inherit from the *`Layer`* class and should implement their own *`forward`* and a *`backward`* functions. Here we will implement two of the basic layers: ReLU layer and linear layer (also known as fully connected layer). \n",
        "\n",
        "Note: We will train the neural network with Mini-batch gradient descent. The $batch\\_size$ is the number of training samples fed into the network each time, and each sample may have $n\\_features$ features. Thus the input to each layer is a 2-d matrix of size $(batch\\_size, n\\_features)$ where each row represents a sample."
      ]
    },
    {
      "cell_type": "code",
      "metadata": {
        "id": "RKDZ3s1TpAO4",
        "colab_type": "code",
        "colab": {}
      },
      "source": [
        "# Do not import any additional 3rd party external libraries\n",
        "import numpy as np\n",
        "import matplotlib.pyplot as plt\n",
        "\n",
        "\n",
        "class Layer:\n",
        "    \"\"\"\n",
        "    Base class for neural network layers\n",
        "    \"\"\"\n",
        "    def __call__(self, x):\n",
        "        # Syntactic sugar. Overrides the function call operator.\n",
        "        # If l is an instance of Layer, then l(x) == l.forward(x)\n",
        "        return self.forward(x)\n",
        "\n",
        "    def forward(self, x):\n",
        "        raise NotImplementedError  # do NOT modify\n",
        "\n",
        "    def backward(self, delta, learning_rate):\n",
        "        raise NotImplementedError  # do NOT modify"
      ],
      "execution_count": 0,
      "outputs": []
    },
    {
      "cell_type": "markdown",
      "metadata": {
        "id": "2ADMhoLcmYdd",
        "colab_type": "text"
      },
      "source": [
        "## ReLU layer\n",
        "\n",
        "$$y=ReLU(x)=\\max(0,x)$$\n",
        "\n",
        "The rectified linear unit function is a simple non-linear activation function, which keeps the positive part of the input and sets negative part to zero. The value of the derivative at 0 can be arbitrarily set to 0 or 1.\n",
        "\n",
        "Hint:\n",
        "Basically, we have $delta = \\frac{\\partial loss}{\\partial y}$ and $y = ReLU(x)$. The *`backward`* function should return $\\frac{\\partial loss}{\\partial x}$ as the $delta$ to the last layer.\n"
      ]
    },
    {
      "cell_type": "code",
      "metadata": {
        "id": "5HCLht05oNZ3",
        "colab_type": "code",
        "outputId": "0218c806-75e8-4da8-cc2c-b6a998b01028",
        "colab": {
          "base_uri": "https://localhost:8080/",
          "height": 35
        }
      },
      "source": [
        "class ReLU(Layer):\n",
        "    \"\"\"\n",
        "    Applies the rectified linear unit function element-wise\n",
        "    \"\"\"\n",
        "    def __init__(self):\n",
        "        # initialize any internal variables\n",
        "        # TODO: initialize internal viriable as needed\n",
        "        self.x = np.array([])\n",
        "        pass\n",
        "\n",
        "    def forward(self, x):\n",
        "        # x: (batch_size, n_features)\n",
        "        # return: (batch_size,n_features)\n",
        "        # TODO: apply ReLU function\n",
        "        self.x = x\n",
        "        return np.maximum(0,x)\n",
        "        raise NotImplementedError\n",
        "\n",
        "    def backward(self, delta, learning_rate):\n",
        "        # delta: (batch_size, n_features)\n",
        "        # return: (batch_size, n_features)\n",
        "        # TODO: return delta for last layer\n",
        "        return delta*(self.x>0).astype(int)\n",
        "        raise NotImplementedError\n",
        "\n",
        "def testReLU():\n",
        "    relu = ReLU()\n",
        "\n",
        "    x = np.array([[-1, 1]])\n",
        "    expected = np.array([[0, 1]])\n",
        "    assert (relu(x)==expected).all(), \"check your forward function\"\n",
        "\n",
        "    delta = np.array([[10, -10]])\n",
        "    expected = np.array([[0, -10]])\n",
        "    assert (relu.backward(delta, 1e-4)==expected).all(), \"check your backward function\"\n",
        "\n",
        "    print(\"testReLU passed!\")\n",
        "\n",
        "testReLU()"
      ],
      "execution_count": 11,
      "outputs": [
        {
          "output_type": "stream",
          "text": [
            "testReLU passed!\n"
          ],
          "name": "stdout"
        }
      ]
    },
    {
      "cell_type": "markdown",
      "metadata": {
        "id": "ZQdaxMh_qvD3",
        "colab_type": "text"
      },
      "source": [
        "## Linear layer\n",
        "\n",
        "$$y=xW+b$$\n",
        "\n",
        "Linear layer applies a linear transformation to the input data. $x$ is a sample row vector of length $n\\_in$. $W$ is a matrix of size $(n\\_in, n\\_out)$ and b is the bias term of length $n\\_out$. $W$ and $b$ are shared among all the samples. You can initialize each entry of $W$ with standard Gaussian distribution and $b$ with a zero vector.\n",
        "\n",
        "$$W \\leftarrow W - \\eta \\frac{\\partial loss}{\\partial W}, b \\leftarrow b - \\eta \\frac{\\partial loss}{\\partial b}$$\n",
        "\n",
        "To apply backpropagation, follow the update rules above where $\\eta$ is the learning rate. The return value should be $\\frac{\\partial loss}{\\partial x}$."
      ]
    },
    {
      "cell_type": "code",
      "metadata": {
        "id": "FFdOBPlnca8f",
        "colab_type": "code",
        "outputId": "aa6b9098-5a6a-458a-b811-04f18a28f07e",
        "colab": {
          "base_uri": "https://localhost:8080/",
          "height": 35
        }
      },
      "source": [
        "class Linear(Layer):\n",
        "    \"\"\"\n",
        "    Applies a linear transformation to the input\n",
        "    \"\"\"\n",
        "    def __init__(self, n_in, n_out):\n",
        "        # n_in: feature size of the input samples\n",
        "        # n_out: output size of each sample\n",
        "        # TODO: initialize internal viriable as needed\n",
        "        # Please put your parameters as self.W and self.b for testLinear()\n",
        "        self.W = np.random.normal(0,1,[n_in,n_out])\n",
        "        self.b = np.zeros(n_out,dtype='float32')\n",
        "        self.x = np.array([])\n",
        "        pass\n",
        "\n",
        "    def forward(self, x):\n",
        "        # x: (batch_size, n_in)\n",
        "        # return: (batch_size, n_out)\n",
        "        # TODO: return the result of linear transformation\n",
        "        self.x = x\n",
        "        return x.dot(self.W) + self.b\n",
        "        raise NotImplementedError\n",
        "\n",
        "    def backward(self, delta, learning_rate):\n",
        "        # delta: (batch_size, n_out)\n",
        "        # return: (batch_size, n_in)\n",
        "        # TODO: update internal parameters and return delta for last layer\n",
        "        result = delta.dot(self.W.T)\n",
        "        delta *= learning_rate\n",
        "        self.W = self.W - self.x.T.dot(delta)\n",
        "        self.b = self.b - np.ones([1,len(delta)]).dot(delta)\n",
        "        return result\n",
        "        raise NotImplementedError\n",
        "\n",
        "\n",
        "\n",
        "def testLinear():\n",
        "    linear = Linear(2, 3)\n",
        "    # hardcoded parameters\n",
        "    linear.W = np.array([[1, 2, 3], [4, 5, 6]])\n",
        "    linear.b = np.array([7, 8, 9])\n",
        "\n",
        "    x = np.array([[0, 1]])\n",
        "    expected = np.array([[11, 13, 15]])\n",
        "    assert (linear(x)==expected).all(), \"check your forward function\"\n",
        "\n",
        "    delta = np.array([[1, 2, 3]])\n",
        "    expected = np.array([[14, 32]])\n",
        "    assert (linear.backward(delta, 1)==expected).all(), \"return value is wrong, check your backward function\"\n",
        "    expected = np.array([[1, 2, 3], [3, 3, 3]])\n",
        "    assert (linear.W==expected).all(), \"W is wrong, check your backward function\"\n",
        "    expected = np.array([[6, 6, 6]])\n",
        "    assert (linear.b==expected).all(), \"b is wrong, check your backward function\"\n",
        "\n",
        "    print(\"testLinear passed!\")\n",
        "\n",
        "testLinear()"
      ],
      "execution_count": 12,
      "outputs": [
        {
          "output_type": "stream",
          "text": [
            "testLinear passed!\n"
          ],
          "name": "stdout"
        }
      ]
    },
    {
      "cell_type": "markdown",
      "metadata": {
        "id": "v8gITTYz4tJ6",
        "colab_type": "text"
      },
      "source": [
        "## Loss function\n",
        "\n",
        "Loss is an operation which takes a prediction and a target and outputs how much different they are in a particular metric. In class we have learned Mean Square Error Loss (MSELoss) for regression jobs. Since we want to classify an image into a digit, we need another loss function for this classification job: Cross Entropy Loss. Let's first look at the base class for the loss function."
      ]
    },
    {
      "cell_type": "code",
      "metadata": {
        "id": "bcCGuKef6cjq",
        "colab_type": "code",
        "colab": {}
      },
      "source": [
        "class Loss:\n",
        "    \"\"\"\n",
        "        Base class for neural network loss\n",
        "    \"\"\"\n",
        "    def __call__(self, x, y):\n",
        "        # Syntactic sugar. Overrides the function call operator.\n",
        "        # If l is an instance of Loss, then l(x, y) == l.forward(x, y)\n",
        "        return self.forward(x, y)\n",
        "\n",
        "    def forward(self, x, y):\n",
        "        # x is the prediction, y is the target\n",
        "        raise NotImplemented  # do NOT modify\n",
        "\n",
        "    def backward(self):\n",
        "        # return delta for last layer\n",
        "        raise NotImplemented  # do NOT modify"
      ],
      "execution_count": 0,
      "outputs": []
    },
    {
      "cell_type": "markdown",
      "metadata": {
        "id": "_ooQg_yh1zLW",
        "colab_type": "text"
      },
      "source": [
        "## Cross entropy loss\n",
        "\n",
        "$$CrossEntropyLoss(x, label)=-\\log(\\frac{\\exp(x[label])}{\\sum_i{\\exp(x[i])}})$$\n",
        "\n",
        "Cross entropy loss is useful for classification jobs. Say $x$ is a feature vector of a sample of length $n\\_classes$ and $label \\in [0, n\\_classes-1]$ is an integer. Basically the loss computes the softmax of the input and returns its negative log likelihood of the target $label$ term.\n",
        "\n",
        "Hint: \n",
        "1. Cross entropy loss has two steps. You can use the chain rule to compute $\\frac{\\partial loss}{\\partial x}$.\n",
        "2. $\\log(x)$ is problematic when $x\\to 0$. Similarly $\\exp(x)$ may overflow when $x$ is huge. Think of some way to refrain from the issues.\n",
        "3. *`for`* loop in Python is slow. Consider native Numpy functions when possible."
      ]
    },
    {
      "cell_type": "code",
      "metadata": {
        "id": "oJJx8oTi4kcs",
        "colab_type": "code",
        "outputId": "b6756f23-0110-47e1-a86b-e76c30a83876",
        "colab": {
          "base_uri": "https://localhost:8080/",
          "height": 35
        }
      },
      "source": [
        "class CrossEntropyLoss(Loss):\n",
        "    \"\"\"\n",
        "    Cross entropy loss.\n",
        "    Combines softmax and negative log likelihood.\n",
        "    \"\"\"\n",
        "    def __init__(self):\n",
        "        # TODO: initialize internal viriable as needed\n",
        "        self.y_idx = np.array([[]])\n",
        "        self.o = np.array([[]])\n",
        "        pass\n",
        "\n",
        "    def forward(self, x, y):\n",
        "        # x: (batch_size, n_classes)\n",
        "        # y: (batch_size,), each item within [0, n_classes-1]\n",
        "        # return: (2,), sum of loss and sum of accuracy of all samples\n",
        "        # TODO: finish the forward function\n",
        "        accu = (x.argmax(1)==y).astype(int) \n",
        "        \n",
        "        batch_size = len(y)\n",
        "        self.y_idx = (range(batch_size),y)\n",
        "        \n",
        "        x -= np.array([x.max(1)]).T\n",
        "        x = np.exp(x)\n",
        "        self.o = x/np.array([x.sum(1)]).T\n",
        "        loss = -np.log(self.o[self.y_idx])        \n",
        "        \n",
        "        return [np.sum(loss),np.sum(accu)]\n",
        "        raise NotImplementedError\n",
        "\n",
        "\n",
        "    def backward(self):\n",
        "        # return: (batch_size, n_classes)\n",
        "        # TODO: return delta for last layer\n",
        "        d = self.o\n",
        "        d[self.y_idx] = d[self.y_idx]-1\n",
        "        return d\n",
        "        raise NotImplementedError\n",
        "\n",
        "\n",
        "def testCELoss():\n",
        "    loss = CrossEntropyLoss()\n",
        "    \n",
        "    x = np.array([[0, 1, 2]])\n",
        "    y = np.array([1])\n",
        "    expected_loss = 1.4076\n",
        "    sum_loss, sum_acc = loss(x, y)\n",
        "    assert (np.abs(sum_loss-expected_loss)<1e-3).all(), \"check loss of your forward function\"\n",
        "    assert sum_acc == 0, \"check accuracy of your forward function\"\n",
        "    \n",
        "    expected = np.array([[0.0900, -0.7553, 0.6652]])\n",
        "    assert (np.abs(loss.backward()-expected)<1e-3).all(), \"check your backward function\"\n",
        "\n",
        "    print(\"testCELoss passed!\")\n",
        "\n",
        "testCELoss()"
      ],
      "execution_count": 14,
      "outputs": [
        {
          "output_type": "stream",
          "text": [
            "testCELoss passed!\n"
          ],
          "name": "stdout"
        }
      ]
    },
    {
      "cell_type": "markdown",
      "metadata": {
        "id": "ekmd70i4TqCk",
        "colab_type": "text"
      },
      "source": [
        "## Neural network\n",
        "\n",
        "Finally, you need to put all the layers together to form an interesting and functional neural network. Here is the NN class that is able to take different configurations of layers and a loss criterion. \n",
        "\n",
        "During training, it updates the parameter of layers based on a number of samples, which is called Mini-Batch Gradient Descent. The number is termed $batch\\_size$. When $batch\\_size=1$, it's degraded to Stochastic Gradient Descent (SGD). When $batch\\_size$ equals the number of all training samples, it's degraded to Batch Gradient Descent (BGD).\n",
        "\n",
        "Now follow the comments to finish the NN class."
      ]
    },
    {
      "cell_type": "code",
      "metadata": {
        "id": "zs_kEg53T16J",
        "colab_type": "code",
        "colab": {}
      },
      "source": [
        "class NN:\n",
        "    \"\"\"\n",
        "    A simple multilayer neural network\n",
        "    \"\"\"\n",
        "    def __init__(self, layers, criterion):\n",
        "        # layers: a list of Layer instances\n",
        "        # criterion: a Loss instance\n",
        "        self.layers = layers\n",
        "        self.criterion = criterion\n",
        "\n",
        "    def train(self, x, y, learning_rate):\n",
        "        # train on a batch of samples, output sum of loss and sum of accuracy, update parameters\n",
        "        # x: (batch_size, n_features)\n",
        "        # y: (batch_size,), each item within [0, n_class-1]\n",
        "        # return: loss, accuracy\n",
        "\n",
        "        # TODO: pass x through layers one by one\n",
        "        n_layers = len(self.layers)\n",
        "        for i in range(n_layers):\n",
        "          x = self.layers[i](x)\n",
        "        \n",
        "        # TODO: get loss and accuracy by the criterion\n",
        "        loss, accuracy = self.criterion(x,y)\n",
        "        \n",
        "        # TODO: back propagation and update parameters\n",
        "        if not (learning_rate == 0):\n",
        "          delta = self.criterion.backward()\n",
        "          for i in range(n_layers):\n",
        "            delta = self.layers[n_layers-i-1].backward(delta,learning_rate)\n",
        "          \n",
        "        return loss, accuracy\n",
        "\n",
        "    def val(self, x, y):\n",
        "        # validate on a batch of samples, output sum of loss and sum of accuracy, no parameter update\n",
        "        # x: (batch_size, n_features)\n",
        "        # y: (batch_size,), each item within [0, n_class-1]\n",
        "        # return: loss, accuracy\n",
        "\n",
        "        # TODO: get loss and accuracy\n",
        "        loss, accuracy = self.train(x,y,0)\n",
        "        \n",
        "        return loss, accuracy\n"
      ],
      "execution_count": 0,
      "outputs": []
    },
    {
      "cell_type": "markdown",
      "metadata": {
        "id": "3l3L2COKds_C",
        "colab_type": "text"
      },
      "source": [
        "## Training the neural network\n",
        "\n",
        "There are two ways you can download and import MNIST dataset:\n",
        "\n",
        "1. First download the MNIST dataset [here](https://drive.google.com/file/d/1UC_uf492dgNfPQSmQa7dMFj8R2502dGb/view?usp=sharing) and upload the npz file to the file system on the left panel. The npz file contains training/validation data/labels in numpy data format. The 2d images (28*28) have been flattened to 1d features (784). The data has been normalized to [0, 1] for easier training. Thanks to Yann LeCun and his colleagues for making it public on his [website](http://yann.lecun.com/exdb/mnist/).\n",
        "2. Use *Keras.datasets* to import raw mnist data. Then, you could reshape and normalize to make it same as the dataset downloaded from (1).\n",
        "\n",
        "Specifically, the training set has 60k samples and the validation set has 10k samples. The neural network will be trained on the training set and the accuracy on the validation set reflects how well it learns and its generalization ability. \n",
        "\n",
        "One epoch means it has finished training on the training set and usually it needs many epochs to learn things well. There are fancy techniques of early stopping or changing learning rate dynamically, but we just fix the learning rate to $10^{-3}$ and see how it works. \n",
        "\n",
        "Note: You should expect an accuracy of at least 96% for the validation set.\n",
        "\n",
        "Note: You can play with different parameters ([link](http://yann.lecun.com/exdb/mnist/)) and learning rates to get better validation accuracy. For example, using 2-layer NN, 800 Hidden Units, Cross-Entropy Loss, one can achieve 1.6% error rate."
      ]
    },
    {
      "cell_type": "code",
      "metadata": {
        "colab_type": "code",
        "id": "US7Awha34how",
        "outputId": "8f787d7c-2e99-4842-c90a-82bf1adf7cb4",
        "colab": {
          "base_uri": "https://localhost:8080/",
          "height": 53
        }
      },
      "source": [
        "# download and import MNIST data\n",
        "# 1st method\n",
        "mnist_data = np.load(\"mnist.npz\")\n",
        "train_x, train_y = mnist_data[\"train_x\"], mnist_data[\"train_y\"]  # (60000, 784) (60000,)\n",
        "val_x, val_y = mnist_data[\"val_x\"], mnist_data[\"val_y\"]  # (10000, 784) (10000,)\n",
        "train_num, val_num = train_x.shape[0], val_x.shape[0]\n",
        "\n",
        "\"\"\"\n",
        "# 2nd method\n",
        "from keras.datasets import mnist\n",
        "\n",
        "(train_x, train_y), (val_x, val_y) = mnist.load_data()\n",
        "train_x = train_x.reshape(train_x.shape[0], -1) / 255 #reshape + normalize\n",
        "val_x = val_x.reshape(val_x.shape[0], -1) / 255\n",
        "\"\"\"\n",
        "\n",
        "print(f\"Dimension of train data: {train_x.shape}\")\n",
        "print(f\"Dimension of validation data: {val_x.shape}\")"
      ],
      "execution_count": 17,
      "outputs": [
        {
          "output_type": "stream",
          "text": [
            "Dimension of train data: (60000, 784)\n",
            "Dimension of validation data: (10000, 784)\n"
          ],
          "name": "stdout"
        }
      ]
    },
    {
      "cell_type": "code",
      "metadata": {
        "id": "pHrRHIZDd1xy",
        "colab_type": "code",
        "outputId": "c7152426-958e-4233-9af1-74e6bf1b8478",
        "colab": {
          "base_uri": "https://localhost:8080/",
          "height": 1000
        }
      },
      "source": [
        "np.random.seed(10701) # DO NOT CHANGE THE SEED\n",
        "\n",
        "# define all training parameters\n",
        "# TODO: modify parameters as needed\n",
        "n_epochs = 100\n",
        "batch_size = 16\n",
        "learning_rate = 1e-3\n",
        "layers = [\n",
        "    Linear(784, 800),\n",
        "    ReLU(),\n",
        "    Linear(800, 10)\n",
        "]\n",
        "criterion = CrossEntropyLoss()\n",
        "mnist_nn = NN(layers, criterion)\n",
        "\n",
        "\n",
        "# statistic data\n",
        "train_loss_list, train_acc_list = [], []\n",
        "val_loss_list, val_acc_list = [], []\n",
        "\n",
        "# begin training and validation\n",
        "for e in range(n_epochs):\n",
        "    train_loss, train_acc = 0, 0\n",
        "    val_loss, val_acc = 0, 0\n",
        "\n",
        "    # shuffle the training set each epoch to prevent overfitting\n",
        "    idxs = np.arange(train_num)\n",
        "    np.random.shuffle(idxs)\n",
        "    train_x, train_y = train_x[idxs], train_y[idxs]\n",
        "\n",
        "    # training\n",
        "    for b in range(0, train_num, batch_size):\n",
        "        range_ = range(b, min(b + batch_size, train_num))\n",
        "        loss, accuracy = mnist_nn.train(train_x[range_], train_y[range_], learning_rate)\n",
        "        train_loss += loss\n",
        "        train_acc += accuracy\n",
        "\n",
        "    # validation\n",
        "    for b in range(0, val_num, batch_size):\n",
        "        range_ = range(b, min(b + batch_size, val_num))\n",
        "        loss, accuracy = mnist_nn.val(val_x[range_], val_y[range_])\n",
        "        val_loss += loss\n",
        "        val_acc += accuracy\n",
        "\n",
        "    train_loss /= train_num\n",
        "    train_acc /= train_num\n",
        "    val_loss /= val_num\n",
        "    val_acc /= val_num\n",
        "    train_loss_list.append(train_loss)\n",
        "    train_acc_list.append(train_acc)\n",
        "    val_loss_list.append(val_loss)\n",
        "    val_acc_list.append(val_acc)\n",
        "\n",
        "    # summary of the epoch\n",
        "    print(\"epoch: {}, train acc: {:.2f}%, train loss: {:.3f}, val acc: {:.2f}%, val loss: {:.3f}\"\n",
        "          .format(e+1, train_acc*100, train_loss, val_acc*100, val_loss))"
      ],
      "execution_count": 27,
      "outputs": [
        {
          "output_type": "stream",
          "text": [
            "epoch: 1, train acc: 87.40%, train loss: 10.339, val acc: 90.28%, val loss: 6.057\n",
            "epoch: 2, train acc: 93.35%, train loss: 3.516, val acc: 92.68%, val loss: 3.780\n",
            "epoch: 3, train acc: 95.10%, train loss: 2.132, val acc: 94.73%, val loss: 2.671\n",
            "epoch: 4, train acc: 96.12%, train loss: 1.407, val acc: 94.94%, val loss: 2.401\n",
            "epoch: 5, train acc: 96.86%, train loss: 0.994, val acc: 95.31%, val loss: 2.055\n",
            "epoch: 6, train acc: 97.30%, train loss: 0.740, val acc: 95.61%, val loss: 1.846\n",
            "epoch: 7, train acc: 97.87%, train loss: 0.519, val acc: 95.40%, val loss: 2.014\n",
            "epoch: 8, train acc: 98.10%, train loss: 0.406, val acc: 95.41%, val loss: 1.984\n",
            "epoch: 9, train acc: 98.52%, train loss: 0.294, val acc: 95.71%, val loss: 1.814\n",
            "epoch: 10, train acc: 98.71%, train loss: 0.219, val acc: 95.90%, val loss: 1.671\n",
            "epoch: 11, train acc: 98.84%, train loss: 0.181, val acc: 95.78%, val loss: 1.708\n",
            "epoch: 12, train acc: 99.10%, train loss: 0.128, val acc: 95.74%, val loss: 1.713\n",
            "epoch: 13, train acc: 99.22%, train loss: 0.096, val acc: 96.20%, val loss: 1.634\n",
            "epoch: 14, train acc: 99.34%, train loss: 0.074, val acc: 95.98%, val loss: 1.652\n",
            "epoch: 15, train acc: 99.53%, train loss: 0.051, val acc: 96.25%, val loss: 1.640\n",
            "epoch: 16, train acc: 99.66%, train loss: 0.031, val acc: 96.12%, val loss: 1.617\n",
            "epoch: 17, train acc: 99.62%, train loss: 0.034, val acc: 95.93%, val loss: 1.610\n",
            "epoch: 18, train acc: 99.70%, train loss: 0.023, val acc: 96.24%, val loss: 1.543\n",
            "epoch: 19, train acc: 99.77%, train loss: 0.019, val acc: 96.15%, val loss: 1.617\n",
            "epoch: 20, train acc: 99.87%, train loss: 0.009, val acc: 96.12%, val loss: 1.625\n",
            "epoch: 21, train acc: 99.86%, train loss: 0.009, val acc: 96.27%, val loss: 1.608\n",
            "epoch: 22, train acc: 99.87%, train loss: 0.008, val acc: 96.26%, val loss: 1.549\n",
            "epoch: 23, train acc: 99.92%, train loss: 0.004, val acc: 96.42%, val loss: 1.559\n",
            "epoch: 24, train acc: 99.96%, train loss: 0.002, val acc: 96.49%, val loss: 1.542\n",
            "epoch: 25, train acc: 99.97%, train loss: 0.001, val acc: 96.20%, val loss: 1.560\n",
            "epoch: 26, train acc: 100.00%, train loss: 0.000, val acc: 96.31%, val loss: 1.544\n",
            "epoch: 27, train acc: 100.00%, train loss: 0.000, val acc: 96.34%, val loss: 1.539\n",
            "epoch: 28, train acc: 100.00%, train loss: 0.000, val acc: 96.34%, val loss: 1.538\n",
            "epoch: 29, train acc: 100.00%, train loss: 0.000, val acc: 96.34%, val loss: 1.538\n",
            "epoch: 30, train acc: 100.00%, train loss: 0.000, val acc: 96.33%, val loss: 1.538\n",
            "epoch: 31, train acc: 100.00%, train loss: 0.000, val acc: 96.33%, val loss: 1.538\n",
            "epoch: 32, train acc: 100.00%, train loss: 0.000, val acc: 96.33%, val loss: 1.537\n",
            "epoch: 33, train acc: 100.00%, train loss: 0.000, val acc: 96.33%, val loss: 1.537\n",
            "epoch: 34, train acc: 100.00%, train loss: 0.000, val acc: 96.34%, val loss: 1.537\n",
            "epoch: 35, train acc: 100.00%, train loss: 0.000, val acc: 96.34%, val loss: 1.537\n",
            "epoch: 36, train acc: 100.00%, train loss: 0.000, val acc: 96.33%, val loss: 1.537\n",
            "epoch: 37, train acc: 100.00%, train loss: 0.000, val acc: 96.33%, val loss: 1.537\n",
            "epoch: 38, train acc: 100.00%, train loss: 0.000, val acc: 96.33%, val loss: 1.537\n",
            "epoch: 39, train acc: 100.00%, train loss: 0.000, val acc: 96.33%, val loss: 1.537\n",
            "epoch: 40, train acc: 100.00%, train loss: 0.000, val acc: 96.33%, val loss: 1.537\n",
            "epoch: 41, train acc: 100.00%, train loss: 0.000, val acc: 96.33%, val loss: 1.537\n",
            "epoch: 42, train acc: 100.00%, train loss: 0.000, val acc: 96.33%, val loss: 1.537\n",
            "epoch: 43, train acc: 100.00%, train loss: 0.000, val acc: 96.33%, val loss: 1.537\n",
            "epoch: 44, train acc: 100.00%, train loss: 0.000, val acc: 96.33%, val loss: 1.536\n",
            "epoch: 45, train acc: 100.00%, train loss: 0.000, val acc: 96.34%, val loss: 1.536\n",
            "epoch: 46, train acc: 100.00%, train loss: 0.000, val acc: 96.34%, val loss: 1.536\n",
            "epoch: 47, train acc: 100.00%, train loss: 0.000, val acc: 96.34%, val loss: 1.536\n",
            "epoch: 48, train acc: 100.00%, train loss: 0.000, val acc: 96.34%, val loss: 1.536\n",
            "epoch: 49, train acc: 100.00%, train loss: 0.000, val acc: 96.34%, val loss: 1.536\n",
            "epoch: 50, train acc: 100.00%, train loss: 0.000, val acc: 96.34%, val loss: 1.536\n",
            "epoch: 51, train acc: 100.00%, train loss: 0.000, val acc: 96.34%, val loss: 1.536\n",
            "epoch: 52, train acc: 100.00%, train loss: 0.000, val acc: 96.34%, val loss: 1.536\n",
            "epoch: 53, train acc: 100.00%, train loss: 0.000, val acc: 96.34%, val loss: 1.536\n",
            "epoch: 54, train acc: 100.00%, train loss: 0.000, val acc: 96.34%, val loss: 1.536\n",
            "epoch: 55, train acc: 100.00%, train loss: 0.000, val acc: 96.33%, val loss: 1.536\n",
            "epoch: 56, train acc: 100.00%, train loss: 0.000, val acc: 96.33%, val loss: 1.536\n",
            "epoch: 57, train acc: 100.00%, train loss: 0.000, val acc: 96.33%, val loss: 1.536\n",
            "epoch: 58, train acc: 100.00%, train loss: 0.000, val acc: 96.33%, val loss: 1.536\n",
            "epoch: 59, train acc: 100.00%, train loss: 0.000, val acc: 96.33%, val loss: 1.536\n",
            "epoch: 60, train acc: 100.00%, train loss: 0.000, val acc: 96.33%, val loss: 1.536\n",
            "epoch: 61, train acc: 100.00%, train loss: 0.000, val acc: 96.33%, val loss: 1.536\n",
            "epoch: 62, train acc: 100.00%, train loss: 0.000, val acc: 96.33%, val loss: 1.536\n",
            "epoch: 63, train acc: 100.00%, train loss: 0.000, val acc: 96.33%, val loss: 1.536\n",
            "epoch: 64, train acc: 100.00%, train loss: 0.000, val acc: 96.33%, val loss: 1.536\n",
            "epoch: 65, train acc: 100.00%, train loss: 0.000, val acc: 96.33%, val loss: 1.536\n",
            "epoch: 66, train acc: 100.00%, train loss: 0.000, val acc: 96.33%, val loss: 1.536\n",
            "epoch: 67, train acc: 100.00%, train loss: 0.000, val acc: 96.33%, val loss: 1.536\n",
            "epoch: 68, train acc: 100.00%, train loss: 0.000, val acc: 96.33%, val loss: 1.536\n",
            "epoch: 69, train acc: 100.00%, train loss: 0.000, val acc: 96.33%, val loss: 1.536\n",
            "epoch: 70, train acc: 100.00%, train loss: 0.000, val acc: 96.33%, val loss: 1.536\n",
            "epoch: 71, train acc: 100.00%, train loss: 0.000, val acc: 96.34%, val loss: 1.536\n",
            "epoch: 72, train acc: 100.00%, train loss: 0.000, val acc: 96.34%, val loss: 1.536\n",
            "epoch: 73, train acc: 100.00%, train loss: 0.000, val acc: 96.34%, val loss: 1.536\n",
            "epoch: 74, train acc: 100.00%, train loss: 0.000, val acc: 96.34%, val loss: 1.536\n",
            "epoch: 75, train acc: 100.00%, train loss: 0.000, val acc: 96.34%, val loss: 1.536\n",
            "epoch: 76, train acc: 100.00%, train loss: 0.000, val acc: 96.34%, val loss: 1.536\n",
            "epoch: 77, train acc: 100.00%, train loss: 0.000, val acc: 96.34%, val loss: 1.536\n",
            "epoch: 78, train acc: 100.00%, train loss: 0.000, val acc: 96.34%, val loss: 1.536\n",
            "epoch: 79, train acc: 100.00%, train loss: 0.000, val acc: 96.34%, val loss: 1.536\n",
            "epoch: 80, train acc: 100.00%, train loss: 0.000, val acc: 96.34%, val loss: 1.536\n",
            "epoch: 81, train acc: 100.00%, train loss: 0.000, val acc: 96.34%, val loss: 1.536\n",
            "epoch: 82, train acc: 100.00%, train loss: 0.000, val acc: 96.34%, val loss: 1.536\n",
            "epoch: 83, train acc: 100.00%, train loss: 0.000, val acc: 96.34%, val loss: 1.536\n",
            "epoch: 84, train acc: 100.00%, train loss: 0.000, val acc: 96.34%, val loss: 1.536\n",
            "epoch: 85, train acc: 100.00%, train loss: 0.000, val acc: 96.34%, val loss: 1.536\n",
            "epoch: 86, train acc: 100.00%, train loss: 0.000, val acc: 96.34%, val loss: 1.536\n",
            "epoch: 87, train acc: 100.00%, train loss: 0.000, val acc: 96.34%, val loss: 1.536\n",
            "epoch: 88, train acc: 100.00%, train loss: 0.000, val acc: 96.34%, val loss: 1.536\n",
            "epoch: 89, train acc: 100.00%, train loss: 0.000, val acc: 96.34%, val loss: 1.536\n",
            "epoch: 90, train acc: 100.00%, train loss: 0.000, val acc: 96.35%, val loss: 1.536\n",
            "epoch: 91, train acc: 100.00%, train loss: 0.000, val acc: 96.35%, val loss: 1.536\n",
            "epoch: 92, train acc: 100.00%, train loss: 0.000, val acc: 96.35%, val loss: 1.536\n",
            "epoch: 93, train acc: 100.00%, train loss: 0.000, val acc: 96.35%, val loss: 1.536\n",
            "epoch: 94, train acc: 100.00%, train loss: 0.000, val acc: 96.35%, val loss: 1.536\n",
            "epoch: 95, train acc: 100.00%, train loss: 0.000, val acc: 96.35%, val loss: 1.536\n",
            "epoch: 96, train acc: 100.00%, train loss: 0.000, val acc: 96.35%, val loss: 1.536\n",
            "epoch: 97, train acc: 100.00%, train loss: 0.000, val acc: 96.35%, val loss: 1.536\n",
            "epoch: 98, train acc: 100.00%, train loss: 0.000, val acc: 96.35%, val loss: 1.536\n",
            "epoch: 99, train acc: 100.00%, train loss: 0.000, val acc: 96.35%, val loss: 1.536\n",
            "epoch: 100, train acc: 100.00%, train loss: 0.000, val acc: 96.35%, val loss: 1.536\n"
          ],
          "name": "stdout"
        }
      ]
    },
    {
      "cell_type": "markdown",
      "metadata": {
        "id": "qEy3M_7LqvKt",
        "colab_type": "text"
      },
      "source": [
        "## Plot the training graph\n",
        "\n",
        "### *TODO: Include the following to your submission*\n",
        "Please attach the generated mnist_nn.png to your pdf. Compare the training and validation curves and explain your findings.\n",
        "\n",
        "Please export your notebook in ipynb format and submit it to Autolab."
      ]
    },
    {
      "cell_type": "code",
      "metadata": {
        "id": "FVlLVJTqq3NB",
        "colab_type": "code",
        "outputId": "27d56649-7c50-4543-b7fd-e8fd16f800f0",
        "colab": {
          "base_uri": "https://localhost:8080/",
          "height": 297
        }
      },
      "source": [
        "# plot loss and accuracy, and save the figure\n",
        "x_list = np.arange(1, n_epochs+1)\n",
        "plt.figure(figsize=(12, 4))\n",
        "plt.subplot(121)\n",
        "plt.plot(train_loss_list, label='training')\n",
        "plt.plot(val_loss_list, label='validation')\n",
        "plt.ylabel('loss', fontsize=16)\n",
        "plt.xlabel('num. epochs', fontsize=16)\n",
        "plt.legend()\n",
        "\n",
        "plt.subplot(122)\n",
        "plt.plot(train_acc_list, label='training')\n",
        "plt.plot(val_acc_list, label='validation')\n",
        "plt.ylabel('accuracy', fontsize=16)\n",
        "plt.xlabel('num. epochs', fontsize=16)\n",
        "plt.legend()\n",
        "\n",
        "plt.tight_layout()\n",
        "plt.savefig('mnist_nn.png')\n",
        "plt.show()"
      ],
      "execution_count": 28,
      "outputs": [
        {
          "output_type": "display_data",
          "data": {
            "image/png": "[encoded data removed]",
            "text/plain": [
              "<Figure size 864x288 with 2 Axes>"
            ]
          },
          "metadata": {
            "tags": []
          }
        }
      ]
    },
    {
      "cell_type": "markdown",
      "metadata": {
        "id": "ILq292op4faH",
        "colab_type": "text"
      },
      "source": [
        "## LeNet-5\n",
        "\n",
        "Note that with a feed-forward neural network mentioned as an example above (2-layer NN, 800 HU, Cross-Entropy Loss), there are 784x800 + 800x10 + 800 + 10 = 636,010 parameters to train. Using Convolutional Neural Network, however, you can attain lower error rate using significantly less number of parameters. \n",
        "\n",
        "![LeNet](https://engmrk.com/wp-content/uploads/2018/09/LeNet_Original_Image.jpg)\n",
        "\n",
        "[LeNet-5: Original image contained in the publication. The architecture consists of two sets of convolutional, activation, and pooling layers, followed by a fully-connected layer, activation, another fully-connected, and finally a softmax classifier ([Image Source](https://engmrk.com/wp-content/uploads/2018/09/LeNet_Original_Image.jpg))]\n",
        "\n",
        "\n",
        "LeNet-5 is a 7-level Convolutional Neural Network first introduced in LeCun et al., 1998 with the following configuration:\n",
        "\n",
        "![LeNet-5 Architecture](https://engmrk.com/wp-content/uploads/2018/09/LeNEt_Summary_Table.jpg)\n",
        "\n",
        "Note that our input dimension is 28x28 while the input dimension of LeNet-5 is 32x32. One way to work around this is to zero-pad the input to make its dimension 32x32. \n",
        "\n",
        "While you are not required to implement any part of this network, we will ask you to compute the number of parameters in certain layers later in the assignment. For practice, you could compute the total number of trainable parameters in LeNet-5 and compare it to the number of parameters required for the network discussed above (2-layer NN, 800 HU, Cross-Entropy Loss).\n"
      ]
    }
  ]
}